{
 "cells": [
  {
   "cell_type": "code",
   "execution_count": 3,
   "metadata": {},
   "outputs": [],
   "source": [
    "import pandas as pd \n",
    "import numpy as np\n",
    "import matplotlib.pyplot as plt"
   ]
  },
  {
   "cell_type": "code",
   "execution_count": 4,
   "metadata": {},
   "outputs": [],
   "source": [
    "# loading forage quality data\n",
    "import math\n",
    "import re\n",
    "import numpy as np\n",
    "import pandas as pd\n",
    "\n",
    "tmean = pd.read_csv('/Users/edwardamoah/Documents/GitHub/OsmiaPopModel/output/tmean_prism_pennsylvania_data_1990_2023.csv')\n",
    "ppt = pd.read_csv('/Users/edwardamoah/Documents/GitHub/OsmiaPopModel/output/ppt_prism_pennsylvania_data_1990_2023.csv')\n",
    "forage = pd.read_csv('/Users/edwardamoah/Documents/GitHub/OsmiaPopModel/output/foraging_quality_pennsylvania_data.csv')\n",
    "\n",
    "cols = forage.columns.tolist()\n",
    "\n",
    "# create new columns \n",
    "new_cols = []\n",
    "for col in cols:\n",
    "    if \"Forage\" in col:\n",
    "        code = col.split(\"_\")[1]\n",
    "        number = re.findall(r'\\d+', code)[0]\n",
    "        new_cols.append(number)\n",
    "    else:\n",
    "        new_cols.append(col)\n",
    "\n",
    "new_cols\n",
    "\n",
    "# rename columns\n",
    "forage = forage.rename(columns=dict(zip(forage.columns, new_cols)))\n",
    "\n",
    "# create grid_id column\n",
    "forage[\"grid_id\"] = forage[\"col\"].astype(str) + \"_\" + forage[\"row\"].astype(str)\n",
    "\n",
    "possible_cols = forage.col.tolist()\n",
    "possible_rows = forage.row.tolist()\n",
    "\n",
    "def get_adjacent_cols_rows(col, row, possible_cols=possible_cols, possible_rows=possible_rows):\n",
    "    adjacent_cols_rows = []\n",
    "    \n",
    "    for c, r in zip(possible_cols, possible_rows):\n",
    "        if abs(c - col) <= 1 and abs(r - row) <= 1 and (c != col or r != row):\n",
    "            adjacent_cols_rows.append((c, r))\n",
    "    \n",
    "    return adjacent_cols_rows\n",
    "\n",
    "\n",
    "\n",
    "def getGridQuality(col, row, year, forage=forage):\n",
    "    grid_id = str(col) + \"_\" + str(row)\n",
    "    grid_quality = forage[forage[\"grid_id\"] == grid_id][str(year)].values[0]\n",
    "    return grid_quality\n",
    "\n",
    "\n",
    "def getGridForageQuality(col, row, year):\n",
    "    '''\n",
    "    Get forage quality for a given grid cell\n",
    "    col: int, column number\n",
    "    row: int, row number\n",
    "    year: int, year\n",
    "    \n",
    "    output:\n",
    "    float [0,233]\n",
    "    '''\n",
    "    grid_quality = getGridQuality(col, row, year)\n",
    "    if math.isnan(grid_quality):\n",
    "        adjacent_cols_rows = get_adjacent_cols_rows(col, row)\n",
    "        adjacent_quality = []\n",
    "        for c, r in adjacent_cols_rows:\n",
    "            grid_quality = getGridQuality(c, r, year)\n",
    "            if not math.isnan(grid_quality):\n",
    "                adjacent_quality.append(grid_quality)\n",
    "        return np.mean(adjacent_quality)\n",
    "    else:\n",
    "        return grid_quality\n",
    "\n",
    "\n",
    "\n",
    "\n",
    "################# tmean data #################\n",
    "\n",
    "cols = tmean.columns.tolist()\n",
    "\n",
    "new_cols = []\n",
    "for col in cols:\n",
    "    if \"PRISM_tmean\" in col:\n",
    "        new_cols.append(col.split(\"_\")[-2])\n",
    "    else:\n",
    "        new_cols.append(col)\n",
    "new_cols\n",
    "\n",
    "tmean = tmean.rename(columns=dict(zip(tmean.columns, new_cols)))\n",
    "\n",
    "\n",
    "tmean[\"grid_id\"] = tmean[\"col\"].astype(str) + \"_\" + tmean[\"row\"].astype(str)\n",
    "\n",
    "def getTmean(col, row, day, month, year, tmean=tmean):\n",
    "    '''\n",
    "    Get temperature data for a given grid cell\n",
    "    col: int, column number\n",
    "    row: int, row number\n",
    "    day: int, day of the month\n",
    "    month: int, month of the year\n",
    "    year: int, year\n",
    "    tmean: pd.DataFrame, temperature data\n",
    "\n",
    "    output:\n",
    "    float, temperature in degrees celcius\n",
    "    '''\n",
    "    if month < 10:\n",
    "        month = \"0\" + str(month)\n",
    "    if day < 10:\n",
    "        day = \"0\" + str(day)\n",
    "    date = str(year) + \"\" + str(month) + \"\" + str(day)\n",
    "    grid_id = str(col) + \"_\" + str(row)\n",
    "    tmean = tmean[tmean[\"grid_id\"] == grid_id][date].values[0]\n",
    "    return tmean\n",
    "\n",
    "############### ppt data #################\n",
    "\n",
    "cols = ppt.columns.tolist()\n",
    "\n",
    "new_cols = []\n",
    "for col in cols:\n",
    "    if \"PRISM_ppt\" in col:\n",
    "        new_cols.append(col.split(\"_\")[-2])\n",
    "    else:\n",
    "        new_cols.append(col)\n",
    "\n",
    "ppt = ppt.rename(columns=dict(zip(ppt.columns, new_cols)))\n",
    "\n",
    "ppt[\"grid_id\"] = ppt[\"col\"].astype(str) + \"_\" + ppt[\"row\"].astype(str)\n",
    "\n",
    "def getPpt(col, row, day, month, year, ppt=ppt):\n",
    "    '''\n",
    "    Get precipitation data for a given grid cell\n",
    "    col: int, column number\n",
    "    row: int, row number\n",
    "    day: int, day of the month\n",
    "    month: int, month of the year\n",
    "    year: int, year\n",
    "    ppt: pd.DataFrame, precipitation data\n",
    "\n",
    "    output:\n",
    "    float, precipitation in mm\n",
    "    '''\n",
    "    if month < 10:\n",
    "        month = \"0\" + str(month)\n",
    "    if day < 10:\n",
    "        day = \"0\" + str(day)\n",
    "    date = str(year) + \"\" + str(month) + \"\" + str(day)\n",
    "    grid_id = str(col) + \"_\" + str(row)\n",
    "    ppt = ppt[ppt[\"grid_id\"] == grid_id][date].values[0]\n",
    "    return ppt"
   ]
  },
  {
   "cell_type": "code",
   "execution_count": 3,
   "metadata": {},
   "outputs": [],
   "source": [
    "################ Modeling ################"
   ]
  },
  {
   "cell_type": "code",
   "execution_count": 5,
   "metadata": {},
   "outputs": [],
   "source": [
    "grids = forage[[\"col\", \"row\", \"grid_id\"]]"
   ]
  },
  {
   "cell_type": "code",
   "execution_count": 6,
   "metadata": {},
   "outputs": [],
   "source": [
    "# Emergence Model\n",
    "import datetime\n",
    "from datetime import datetime, timedelta\n",
    "def getEmergence(col, row, year, sex=\"female\"):\n",
    "    '''\n",
    "    Get emergence date for a given grid cell\n",
    "    col: int, column number\n",
    "    row: int, row number\n",
    "    year: int, year\n",
    "\n",
    "    output:\n",
    "    datetime.date, emergence date\n",
    "    '''\n",
    "    # function constants\n",
    "    #female_thermal_temp = 179.8  #white et al\n",
    "    female_thermal_temp = 209 # adam et al\n",
    "    male_thermal_temp = 125.2\n",
    "    #female_dev_temp = 8.6 # white et al\n",
    "    female_dev_temp = 6.53 # adam et al\n",
    "    male_dev_temp = 8.9\n",
    "\n",
    "\n",
    "    starting_date = f\"{year-1}-11-01\" # september 1st of the previous year\n",
    "    starting_date = datetime.strptime(starting_date, \"%Y-%m-%d\").date()\n",
    "    cumulative_degrees = 0.0\n",
    "    new_date = starting_date\n",
    "\n",
    "    if sex == \"female\":\n",
    "        thermal_temp = female_thermal_temp\n",
    "    elif sex == \"male\":\n",
    "        thermal_temp = male_thermal_temp\n",
    "\n",
    "    if sex == \"female\":\n",
    "        dev_temp = female_dev_temp\n",
    "    elif sex == \"male\":\n",
    "        dev_temp = male_dev_temp\n",
    "\n",
    "    # determine emergence date\n",
    "    cumulative_degrees = 0.0\n",
    "    development_days = 0\n",
    "    while cumulative_degrees < thermal_temp:\n",
    "        daily_tmean = getTmean(col, row, new_date.day, new_date.month, new_date.year)\n",
    "        if daily_tmean >= dev_temp:\n",
    "            cumulative_degrees += float(daily_tmean - dev_temp)\n",
    "            development_days += 1\n",
    "\n",
    "        new_date += timedelta(days=1)\n",
    "\n",
    "    return new_date\n",
    "    '''\n",
    "    return {\n",
    "\n",
    "        \"emergence_date\": new_date,\n",
    "        \"development_days\": development_days\n",
    "    }\n",
    "    '''\n"
   ]
  },
  {
   "cell_type": "code",
   "execution_count": 22,
   "metadata": {},
   "outputs": [],
   "source": [
    "# Reproduction Model\n",
    "\n",
    "precipitation_threshold = 1\n",
    "\n",
    "def getSpatiallyExplicitReproduction(col, row, emergence, longevity=22, temperature_threshold=13.9, mating_days=2, precipitation_threshold=5, forage_threshold_percentile=10):\n",
    "    '''\n",
    "    Get reproduction date for a given grid cell\n",
    "    col: int, column number\n",
    "    row: int, row number\n",
    "    year: int, year\n",
    "    emergence: datetime.date, emergence date\n",
    "\n",
    "    output:\n",
    "    datetime.date, reproduction date\n",
    "    '''\n",
    "\n",
    "    # function constants\n",
    "    eggs = 0\n",
    "    egg_delta = 1 # change in eggs per day\n",
    "     # update starting date\n",
    "    starting_date = emergence + timedelta(days=mating_days)\n",
    "\n",
    "    non_foraging_days = 0\n",
    "    precipitation_effect = 0\n",
    "    temperature_effect = 0\n",
    "    temps = []\n",
    "    ppts = []\n",
    "    \n",
    "    for i in range(longevity-mating_days):\n",
    "        # get daily temperature and precipitation\n",
    "        daily_tmean = getTmean(col, row, starting_date.day, starting_date.month, starting_date.year)\n",
    "        daily_ppt = getPpt(col, row, starting_date.day, starting_date.month, starting_date.year)\n",
    "\n",
    "        temps.append(daily_tmean)\n",
    "        ppts.append(daily_ppt)\n",
    "\n",
    "        # update eggs\n",
    "        if daily_tmean >= temperature_threshold and daily_ppt < precipitation_threshold:\n",
    "            eggs += egg_delta\n",
    "            \n",
    "        else:\n",
    "            non_foraging_days += 1\n",
    "            if daily_tmean < temperature_threshold:\n",
    "                temperature_effect += 1\n",
    "            if daily_ppt >= precipitation_threshold:\n",
    "                precipitation_effect += 1\n",
    "\n",
    "\n",
    "        #print(f\"Date {starting_date},\\nTmean {daily_tmean},\\nPPT {daily_ppt},\\nEggs {eggs}\")\n",
    "\n",
    "        # update date\n",
    "        starting_date += timedelta(days=1)\n",
    "        \n",
    "\n",
    "    return {\n",
    "        \"eggs\": eggs,\n",
    "        \"non_foraging_days\": non_foraging_days,\n",
    "        \"precipitation_effect\": precipitation_effect,\n",
    "        \"temperature_effect\": temperature_effect,\n",
    "        \"temps\": temps,\n",
    "        \"ppts\": ppts\n",
    "    }\n",
    "\n",
    "        "
   ]
  },
  {
   "cell_type": "code",
   "execution_count": 15,
   "metadata": {},
   "outputs": [],
   "source": [
    "# Egg and Larva Mortality Model\n",
    "\n",
    "def getEggLarvaMortality(col, row, emergence, mating_days=2):\n",
    "\n",
    "    # constants\n",
    "    ldt = 10 # c\n",
    "    udt = 30 # c\n",
    "\n",
    "    total_dev_days = 38 # days 20 forages + 4 egg + 14 larva\n",
    "\n",
    "    startdate = emergence + timedelta(days=mating_days)\n",
    "\n",
    "    mortality_days = 0\n",
    "\n",
    "    for i in range(total_dev_days):\n",
    "\n",
    "        daily_tmean = getTmean(col, row, startdate.day, startdate.month, startdate.year)\n",
    "\n",
    "        if daily_tmean < ldt or daily_tmean > udt:\n",
    "            mortality_days += 1\n",
    "\n",
    "        startdate += timedelta(days=1)\n",
    "\n",
    "    return mortality_days/total_dev_days\n",
    "\n"
   ]
  },
  {
   "cell_type": "code",
   "execution_count": 16,
   "metadata": {},
   "outputs": [],
   "source": [
    "# Pre-wintering Mortality Model\n",
    "\n",
    "def getPreWinteringMortality(col, row, year):\n",
    "\n",
    "    startdate = datetime(year, 9, 1)\n",
    "    enddate = datetime(year, 11, 1)\n",
    "\n",
    "    dev_temp = 6.53\n",
    "\n",
    "    dev_days = 0\n",
    "\n",
    "    while startdate < enddate:\n",
    "        daily_tmean = getTmean(col, row, startdate.day, startdate.month, startdate.year)\n",
    "        if daily_tmean > dev_temp:\n",
    "            dev_days += 1\n",
    "\n",
    "        startdate += timedelta(days=1)\n",
    "\n",
    "    return dev_days/61\n",
    "    "
   ]
  },
  {
   "cell_type": "code",
   "execution_count": 17,
   "metadata": {},
   "outputs": [],
   "source": [
    "# Wintering Mortality Model\n",
    "\n",
    "def getWinteringTemperature(col, row, year):\n",
    "    \n",
    "        startdate = datetime(year, 11, 1)\n",
    "        enddate = datetime(year+1, 2, 1)\n",
    "    \n",
    "        temps = []\n",
    "    \n",
    "        while startdate < enddate:\n",
    "            daily_tmean = getTmean(col, row, startdate.day, startdate.month, startdate.year)\n",
    "            temps.append(daily_tmean)\n",
    "    \n",
    "            startdate += timedelta(days=1)\n",
    "    \n",
    "        return np.mean(temps)"
   ]
  },
  {
   "cell_type": "code",
   "execution_count": 3,
   "metadata": {},
   "outputs": [],
   "source": [
    "import pandas as pd"
   ]
  },
  {
   "cell_type": "code",
   "execution_count": 4,
   "metadata": {},
   "outputs": [
    {
     "ename": "ParserError",
     "evalue": "Error tokenizing data. C error: Expected 13 fields in line 3, saw 17\n",
     "output_type": "error",
     "traceback": [
      "\u001b[0;31m---------------------------------------------------------------------------\u001b[0m",
      "\u001b[0;31mParserError\u001b[0m                               Traceback (most recent call last)",
      "Cell \u001b[0;32mIn[4], line 1\u001b[0m\n\u001b[0;32m----> 1\u001b[0m pa_point \u001b[38;5;241m=\u001b[39m \u001b[43mpd\u001b[49m\u001b[38;5;241;43m.\u001b[39;49m\u001b[43mread_csv\u001b[49m\u001b[43m(\u001b[49m\u001b[38;5;124;43m'\u001b[39;49m\u001b[38;5;124;43m/Users/edwardamoah/Documents/GitHub/OsmiaPopModel/output/pennsylvania_prism_grid_points.csv\u001b[39;49m\u001b[38;5;124;43m'\u001b[39;49m\u001b[43m)\u001b[49m\n",
      "File \u001b[0;32m~/Documents/GitHub/OsmiaPopModel/osmiaPopModel_python/venv/lib/python3.12/site-packages/pandas/io/parsers/readers.py:1026\u001b[0m, in \u001b[0;36mread_csv\u001b[0;34m(filepath_or_buffer, sep, delimiter, header, names, index_col, usecols, dtype, engine, converters, true_values, false_values, skipinitialspace, skiprows, skipfooter, nrows, na_values, keep_default_na, na_filter, verbose, skip_blank_lines, parse_dates, infer_datetime_format, keep_date_col, date_parser, date_format, dayfirst, cache_dates, iterator, chunksize, compression, thousands, decimal, lineterminator, quotechar, quoting, doublequote, escapechar, comment, encoding, encoding_errors, dialect, on_bad_lines, delim_whitespace, low_memory, memory_map, float_precision, storage_options, dtype_backend)\u001b[0m\n\u001b[1;32m   1013\u001b[0m kwds_defaults \u001b[38;5;241m=\u001b[39m _refine_defaults_read(\n\u001b[1;32m   1014\u001b[0m     dialect,\n\u001b[1;32m   1015\u001b[0m     delimiter,\n\u001b[0;32m   (...)\u001b[0m\n\u001b[1;32m   1022\u001b[0m     dtype_backend\u001b[38;5;241m=\u001b[39mdtype_backend,\n\u001b[1;32m   1023\u001b[0m )\n\u001b[1;32m   1024\u001b[0m kwds\u001b[38;5;241m.\u001b[39mupdate(kwds_defaults)\n\u001b[0;32m-> 1026\u001b[0m \u001b[38;5;28;01mreturn\u001b[39;00m \u001b[43m_read\u001b[49m\u001b[43m(\u001b[49m\u001b[43mfilepath_or_buffer\u001b[49m\u001b[43m,\u001b[49m\u001b[43m \u001b[49m\u001b[43mkwds\u001b[49m\u001b[43m)\u001b[49m\n",
      "File \u001b[0;32m~/Documents/GitHub/OsmiaPopModel/osmiaPopModel_python/venv/lib/python3.12/site-packages/pandas/io/parsers/readers.py:626\u001b[0m, in \u001b[0;36m_read\u001b[0;34m(filepath_or_buffer, kwds)\u001b[0m\n\u001b[1;32m    623\u001b[0m     \u001b[38;5;28;01mreturn\u001b[39;00m parser\n\u001b[1;32m    625\u001b[0m \u001b[38;5;28;01mwith\u001b[39;00m parser:\n\u001b[0;32m--> 626\u001b[0m     \u001b[38;5;28;01mreturn\u001b[39;00m \u001b[43mparser\u001b[49m\u001b[38;5;241;43m.\u001b[39;49m\u001b[43mread\u001b[49m\u001b[43m(\u001b[49m\u001b[43mnrows\u001b[49m\u001b[43m)\u001b[49m\n",
      "File \u001b[0;32m~/Documents/GitHub/OsmiaPopModel/osmiaPopModel_python/venv/lib/python3.12/site-packages/pandas/io/parsers/readers.py:1923\u001b[0m, in \u001b[0;36mTextFileReader.read\u001b[0;34m(self, nrows)\u001b[0m\n\u001b[1;32m   1916\u001b[0m nrows \u001b[38;5;241m=\u001b[39m validate_integer(\u001b[38;5;124m\"\u001b[39m\u001b[38;5;124mnrows\u001b[39m\u001b[38;5;124m\"\u001b[39m, nrows)\n\u001b[1;32m   1917\u001b[0m \u001b[38;5;28;01mtry\u001b[39;00m:\n\u001b[1;32m   1918\u001b[0m     \u001b[38;5;66;03m# error: \"ParserBase\" has no attribute \"read\"\u001b[39;00m\n\u001b[1;32m   1919\u001b[0m     (\n\u001b[1;32m   1920\u001b[0m         index,\n\u001b[1;32m   1921\u001b[0m         columns,\n\u001b[1;32m   1922\u001b[0m         col_dict,\n\u001b[0;32m-> 1923\u001b[0m     ) \u001b[38;5;241m=\u001b[39m \u001b[38;5;28;43mself\u001b[39;49m\u001b[38;5;241;43m.\u001b[39;49m\u001b[43m_engine\u001b[49m\u001b[38;5;241;43m.\u001b[39;49m\u001b[43mread\u001b[49m\u001b[43m(\u001b[49m\u001b[43m  \u001b[49m\u001b[38;5;66;43;03m# type: ignore[attr-defined]\u001b[39;49;00m\n\u001b[1;32m   1924\u001b[0m \u001b[43m        \u001b[49m\u001b[43mnrows\u001b[49m\n\u001b[1;32m   1925\u001b[0m \u001b[43m    \u001b[49m\u001b[43m)\u001b[49m\n\u001b[1;32m   1926\u001b[0m \u001b[38;5;28;01mexcept\u001b[39;00m \u001b[38;5;167;01mException\u001b[39;00m:\n\u001b[1;32m   1927\u001b[0m     \u001b[38;5;28mself\u001b[39m\u001b[38;5;241m.\u001b[39mclose()\n",
      "File \u001b[0;32m~/Documents/GitHub/OsmiaPopModel/osmiaPopModel_python/venv/lib/python3.12/site-packages/pandas/io/parsers/c_parser_wrapper.py:234\u001b[0m, in \u001b[0;36mCParserWrapper.read\u001b[0;34m(self, nrows)\u001b[0m\n\u001b[1;32m    232\u001b[0m \u001b[38;5;28;01mtry\u001b[39;00m:\n\u001b[1;32m    233\u001b[0m     \u001b[38;5;28;01mif\u001b[39;00m \u001b[38;5;28mself\u001b[39m\u001b[38;5;241m.\u001b[39mlow_memory:\n\u001b[0;32m--> 234\u001b[0m         chunks \u001b[38;5;241m=\u001b[39m \u001b[38;5;28;43mself\u001b[39;49m\u001b[38;5;241;43m.\u001b[39;49m\u001b[43m_reader\u001b[49m\u001b[38;5;241;43m.\u001b[39;49m\u001b[43mread_low_memory\u001b[49m\u001b[43m(\u001b[49m\u001b[43mnrows\u001b[49m\u001b[43m)\u001b[49m\n\u001b[1;32m    235\u001b[0m         \u001b[38;5;66;03m# destructive to chunks\u001b[39;00m\n\u001b[1;32m    236\u001b[0m         data \u001b[38;5;241m=\u001b[39m _concatenate_chunks(chunks)\n",
      "File \u001b[0;32mparsers.pyx:838\u001b[0m, in \u001b[0;36mpandas._libs.parsers.TextReader.read_low_memory\u001b[0;34m()\u001b[0m\n",
      "File \u001b[0;32mparsers.pyx:905\u001b[0m, in \u001b[0;36mpandas._libs.parsers.TextReader._read_rows\u001b[0;34m()\u001b[0m\n",
      "File \u001b[0;32mparsers.pyx:874\u001b[0m, in \u001b[0;36mpandas._libs.parsers.TextReader._tokenize_rows\u001b[0;34m()\u001b[0m\n",
      "File \u001b[0;32mparsers.pyx:891\u001b[0m, in \u001b[0;36mpandas._libs.parsers.TextReader._check_tokenize_status\u001b[0;34m()\u001b[0m\n",
      "File \u001b[0;32mparsers.pyx:2061\u001b[0m, in \u001b[0;36mpandas._libs.parsers.raise_parser_error\u001b[0;34m()\u001b[0m\n",
      "\u001b[0;31mParserError\u001b[0m: Error tokenizing data. C error: Expected 13 fields in line 3, saw 17\n"
     ]
    }
   ],
   "source": [
    "pa_point = pd.read_csv('/Users/edwardamoah/Documents/GitHub/OsmiaPopModel/output/pennsylvania_prism_grid_points.csv')"
   ]
  },
  {
   "cell_type": "code",
   "execution_count": 18,
   "metadata": {},
   "outputs": [],
   "source": [
    "######################## Run Simulation ################"
   ]
  },
  {
   "cell_type": "code",
   "execution_count": 19,
   "metadata": {},
   "outputs": [],
   "source": [
    "#years = [2008, 2009, 2010, 2011, 2012, 2013, 2014, 2015, 2016, 2017, 2018, 2019, 2020, 2021, 2022, 2023]\n",
    "#years = [2009, 2010, 2011, 2012, 2013, 2014, 2015, 2016, 2017, 2018, 2019, 2020, 2021, 2022, 2023]\n",
    "#years = [1991, 1992, 1993, 1994, 1995, 1996, 1997, 1998, 1999, 2000, 2001, 2002, 2003, 2004, 2005, 2006, 2007, 2008, 2009, 2010, 2011, 2012, 2013, 2014, 2015, 2016, 2017, 2018, 2019, 2020, 2021, 2022, 2023]\n",
    "years = [2020, 2021, 2022]"
   ]
  },
  {
   "cell_type": "code",
   "execution_count": 20,
   "metadata": {},
   "outputs": [
    {
     "data": {
      "text/plain": [
       "3"
      ]
     },
     "execution_count": 20,
     "metadata": {},
     "output_type": "execute_result"
    }
   ],
   "source": [
    "len(years)"
   ]
  },
  {
   "cell_type": "code",
   "execution_count": 13,
   "metadata": {},
   "outputs": [],
   "source": [
    "col = 1131\n",
    "row = 219\n",
    "df = pd.DataFrame(years, columns=[\"year\"])\n",
    "df['emergence'] = df['year'].apply(lambda x: getEmergence(col, row, x))"
   ]
  },
  {
   "cell_type": "code",
   "execution_count": 41,
   "metadata": {},
   "outputs": [],
   "source": [
    "def getJulianDay(emergence):\n",
    "    emergence = datetime.strptime(emergence, '%Y-%m-%d').date()\n",
    "    starting_date = datetime.strptime(f'{emergence.year}-01-01', '%Y-%m-%d').date()\n",
    "    return (emergence - starting_date).days + 1\n",
    "\n",
    "df['julian_day'] = df['emergence'].apply(lambda x: getJulianDay(str(x)))"
   ]
  },
  {
   "cell_type": "code",
   "execution_count": 42,
   "metadata": {},
   "outputs": [
    {
     "data": {
      "text/plain": [
       "<Axes: xlabel='year', ylabel='julian_day'>"
      ]
     },
     "execution_count": 42,
     "metadata": {},
     "output_type": "execute_result"
    },
    {
     "data": {
      "image/png": "[encoded data removed]",
      "text/plain": [
       "<Figure size 640x480 with 1 Axes>"
      ]
     },
     "metadata": {},
     "output_type": "display_data"
    }
   ],
   "source": [
    "import seaborn as sns\n",
    "# FILEPATH: /Users/edwardamoah/Documents/GitHub/OsmiaPopModel/osmiaPopModel_python/research/modeling.ipynb\n",
    "df.plot(x='year', y='julian_day', kind='scatter')\n",
    "sns.regplot(x='year', y='julian_day', data=df)\n",
    "#df.scatter(x='year', y='julian_day', kind='line')"
   ]
  },
  {
   "cell_type": "code",
   "execution_count": 23,
   "metadata": {},
   "outputs": [
    {
     "name": "stderr",
     "output_type": "stream",
     "text": [
      "/var/folders/r5/48dgr3g12qg3cwmg9f6v0cwc0000gn/T/ipykernel_98165/872329460.py:3: SettingWithCopyWarning: \n",
      "A value is trying to be set on a copy of a slice from a DataFrame.\n",
      "Try using .loc[row_indexer,col_indexer] = value instead\n",
      "\n",
      "See the caveats in the documentation: https://pandas.pydata.org/pandas-docs/stable/user_guide/indexing.html#returning-a-view-versus-a-copy\n",
      "  grids[f\"reproduction_{year}\"] = grids.apply(lambda x: getSpatiallyExplicitReproduction(x[\"col\"], x[\"row\"], x[f\"emergence_{year}\"]), axis=1)\n",
      "/var/folders/r5/48dgr3g12qg3cwmg9f6v0cwc0000gn/T/ipykernel_98165/872329460.py:4: SettingWithCopyWarning: \n",
      "A value is trying to be set on a copy of a slice from a DataFrame.\n",
      "Try using .loc[row_indexer,col_indexer] = value instead\n",
      "\n",
      "See the caveats in the documentation: https://pandas.pydata.org/pandas-docs/stable/user_guide/indexing.html#returning-a-view-versus-a-copy\n",
      "  grids[f\"egg_larva_mortality_{year}\"] = grids.apply(lambda x: getEggLarvaMortality(x[\"col\"], x[\"row\"], x[f\"emergence_{year}\"]), axis=1)\n",
      "/var/folders/r5/48dgr3g12qg3cwmg9f6v0cwc0000gn/T/ipykernel_98165/872329460.py:5: SettingWithCopyWarning: \n",
      "A value is trying to be set on a copy of a slice from a DataFrame.\n",
      "Try using .loc[row_indexer,col_indexer] = value instead\n",
      "\n",
      "See the caveats in the documentation: https://pandas.pydata.org/pandas-docs/stable/user_guide/indexing.html#returning-a-view-versus-a-copy\n",
      "  grids[f\"pre_wintering_mortality_{year}\"] = grids.apply(lambda x: getPreWinteringMortality(x[\"col\"], x[\"row\"], year), axis=1)\n",
      "/var/folders/r5/48dgr3g12qg3cwmg9f6v0cwc0000gn/T/ipykernel_98165/872329460.py:6: SettingWithCopyWarning: \n",
      "A value is trying to be set on a copy of a slice from a DataFrame.\n",
      "Try using .loc[row_indexer,col_indexer] = value instead\n",
      "\n",
      "See the caveats in the documentation: https://pandas.pydata.org/pandas-docs/stable/user_guide/indexing.html#returning-a-view-versus-a-copy\n",
      "  grids[f\"wintering_temperature_{year}\"] = grids.apply(lambda x: getWinteringTemperature(x[\"col\"], x[\"row\"], year), axis=1)\n"
     ]
    },
    {
     "ename": "KeyError",
     "evalue": "'emergence_2021'",
     "output_type": "error",
     "traceback": [
      "\u001b[0;31m---------------------------------------------------------------------------\u001b[0m",
      "\u001b[0;31mKeyError\u001b[0m                                  Traceback (most recent call last)",
      "File \u001b[0;32m~/Documents/GitHub/OsmiaPopModel/osmiaPopModel_python/venv/lib/python3.12/site-packages/pandas/core/indexes/base.py:3805\u001b[0m, in \u001b[0;36mIndex.get_loc\u001b[0;34m(self, key)\u001b[0m\n\u001b[1;32m   3804\u001b[0m \u001b[38;5;28;01mtry\u001b[39;00m:\n\u001b[0;32m-> 3805\u001b[0m     \u001b[38;5;28;01mreturn\u001b[39;00m \u001b[38;5;28;43mself\u001b[39;49m\u001b[38;5;241;43m.\u001b[39;49m\u001b[43m_engine\u001b[49m\u001b[38;5;241;43m.\u001b[39;49m\u001b[43mget_loc\u001b[49m\u001b[43m(\u001b[49m\u001b[43mcasted_key\u001b[49m\u001b[43m)\u001b[49m\n\u001b[1;32m   3806\u001b[0m \u001b[38;5;28;01mexcept\u001b[39;00m \u001b[38;5;167;01mKeyError\u001b[39;00m \u001b[38;5;28;01mas\u001b[39;00m err:\n",
      "File \u001b[0;32mindex.pyx:167\u001b[0m, in \u001b[0;36mpandas._libs.index.IndexEngine.get_loc\u001b[0;34m()\u001b[0m\n",
      "File \u001b[0;32mindex.pyx:196\u001b[0m, in \u001b[0;36mpandas._libs.index.IndexEngine.get_loc\u001b[0;34m()\u001b[0m\n",
      "File \u001b[0;32mpandas/_libs/hashtable_class_helper.pxi:7081\u001b[0m, in \u001b[0;36mpandas._libs.hashtable.PyObjectHashTable.get_item\u001b[0;34m()\u001b[0m\n",
      "File \u001b[0;32mpandas/_libs/hashtable_class_helper.pxi:7089\u001b[0m, in \u001b[0;36mpandas._libs.hashtable.PyObjectHashTable.get_item\u001b[0;34m()\u001b[0m\n",
      "\u001b[0;31mKeyError\u001b[0m: 'emergence_2021'",
      "\nThe above exception was the direct cause of the following exception:\n",
      "\u001b[0;31mKeyError\u001b[0m                                  Traceback (most recent call last)",
      "Cell \u001b[0;32mIn[23], line 3\u001b[0m\n\u001b[1;32m      1\u001b[0m \u001b[38;5;28;01mfor\u001b[39;00m year \u001b[38;5;129;01min\u001b[39;00m years:\n\u001b[1;32m      2\u001b[0m     \u001b[38;5;66;03m#grids[f\"emergence_{year}\"] = grids.apply(lambda x: getEmergence(x[\"col\"], x[\"row\"], year), axis=1)\u001b[39;00m\n\u001b[0;32m----> 3\u001b[0m     grids[\u001b[38;5;124mf\u001b[39m\u001b[38;5;124m\"\u001b[39m\u001b[38;5;124mreproduction_\u001b[39m\u001b[38;5;132;01m{\u001b[39;00myear\u001b[38;5;132;01m}\u001b[39;00m\u001b[38;5;124m\"\u001b[39m] \u001b[38;5;241m=\u001b[39m \u001b[43mgrids\u001b[49m\u001b[38;5;241;43m.\u001b[39;49m\u001b[43mapply\u001b[49m\u001b[43m(\u001b[49m\u001b[38;5;28;43;01mlambda\u001b[39;49;00m\u001b[43m \u001b[49m\u001b[43mx\u001b[49m\u001b[43m:\u001b[49m\u001b[43m \u001b[49m\u001b[43mgetSpatiallyExplicitReproduction\u001b[49m\u001b[43m(\u001b[49m\u001b[43mx\u001b[49m\u001b[43m[\u001b[49m\u001b[38;5;124;43m\"\u001b[39;49m\u001b[38;5;124;43mcol\u001b[39;49m\u001b[38;5;124;43m\"\u001b[39;49m\u001b[43m]\u001b[49m\u001b[43m,\u001b[49m\u001b[43m \u001b[49m\u001b[43mx\u001b[49m\u001b[43m[\u001b[49m\u001b[38;5;124;43m\"\u001b[39;49m\u001b[38;5;124;43mrow\u001b[39;49m\u001b[38;5;124;43m\"\u001b[39;49m\u001b[43m]\u001b[49m\u001b[43m,\u001b[49m\u001b[43m \u001b[49m\u001b[43mx\u001b[49m\u001b[43m[\u001b[49m\u001b[38;5;124;43mf\u001b[39;49m\u001b[38;5;124;43m\"\u001b[39;49m\u001b[38;5;124;43memergence_\u001b[39;49m\u001b[38;5;132;43;01m{\u001b[39;49;00m\u001b[43myear\u001b[49m\u001b[38;5;132;43;01m}\u001b[39;49;00m\u001b[38;5;124;43m\"\u001b[39;49m\u001b[43m]\u001b[49m\u001b[43m)\u001b[49m\u001b[43m,\u001b[49m\u001b[43m \u001b[49m\u001b[43maxis\u001b[49m\u001b[38;5;241;43m=\u001b[39;49m\u001b[38;5;241;43m1\u001b[39;49m\u001b[43m)\u001b[49m\n\u001b[1;32m      4\u001b[0m     grids[\u001b[38;5;124mf\u001b[39m\u001b[38;5;124m\"\u001b[39m\u001b[38;5;124megg_larva_mortality_\u001b[39m\u001b[38;5;132;01m{\u001b[39;00myear\u001b[38;5;132;01m}\u001b[39;00m\u001b[38;5;124m\"\u001b[39m] \u001b[38;5;241m=\u001b[39m grids\u001b[38;5;241m.\u001b[39mapply(\u001b[38;5;28;01mlambda\u001b[39;00m x: getEggLarvaMortality(x[\u001b[38;5;124m\"\u001b[39m\u001b[38;5;124mcol\u001b[39m\u001b[38;5;124m\"\u001b[39m], x[\u001b[38;5;124m\"\u001b[39m\u001b[38;5;124mrow\u001b[39m\u001b[38;5;124m\"\u001b[39m], x[\u001b[38;5;124mf\u001b[39m\u001b[38;5;124m\"\u001b[39m\u001b[38;5;124memergence_\u001b[39m\u001b[38;5;132;01m{\u001b[39;00myear\u001b[38;5;132;01m}\u001b[39;00m\u001b[38;5;124m\"\u001b[39m]), axis\u001b[38;5;241m=\u001b[39m\u001b[38;5;241m1\u001b[39m)\n\u001b[1;32m      5\u001b[0m     grids[\u001b[38;5;124mf\u001b[39m\u001b[38;5;124m\"\u001b[39m\u001b[38;5;124mpre_wintering_mortality_\u001b[39m\u001b[38;5;132;01m{\u001b[39;00myear\u001b[38;5;132;01m}\u001b[39;00m\u001b[38;5;124m\"\u001b[39m] \u001b[38;5;241m=\u001b[39m grids\u001b[38;5;241m.\u001b[39mapply(\u001b[38;5;28;01mlambda\u001b[39;00m x: getPreWinteringMortality(x[\u001b[38;5;124m\"\u001b[39m\u001b[38;5;124mcol\u001b[39m\u001b[38;5;124m\"\u001b[39m], x[\u001b[38;5;124m\"\u001b[39m\u001b[38;5;124mrow\u001b[39m\u001b[38;5;124m\"\u001b[39m], year), axis\u001b[38;5;241m=\u001b[39m\u001b[38;5;241m1\u001b[39m)\n",
      "File \u001b[0;32m~/Documents/GitHub/OsmiaPopModel/osmiaPopModel_python/venv/lib/python3.12/site-packages/pandas/core/frame.py:10361\u001b[0m, in \u001b[0;36mDataFrame.apply\u001b[0;34m(self, func, axis, raw, result_type, args, by_row, engine, engine_kwargs, **kwargs)\u001b[0m\n\u001b[1;32m  10347\u001b[0m \u001b[38;5;28;01mfrom\u001b[39;00m \u001b[38;5;21;01mpandas\u001b[39;00m\u001b[38;5;21;01m.\u001b[39;00m\u001b[38;5;21;01mcore\u001b[39;00m\u001b[38;5;21;01m.\u001b[39;00m\u001b[38;5;21;01mapply\u001b[39;00m \u001b[38;5;28;01mimport\u001b[39;00m frame_apply\n\u001b[1;32m  10349\u001b[0m op \u001b[38;5;241m=\u001b[39m frame_apply(\n\u001b[1;32m  10350\u001b[0m     \u001b[38;5;28mself\u001b[39m,\n\u001b[1;32m  10351\u001b[0m     func\u001b[38;5;241m=\u001b[39mfunc,\n\u001b[0;32m   (...)\u001b[0m\n\u001b[1;32m  10359\u001b[0m     kwargs\u001b[38;5;241m=\u001b[39mkwargs,\n\u001b[1;32m  10360\u001b[0m )\n\u001b[0;32m> 10361\u001b[0m \u001b[38;5;28;01mreturn\u001b[39;00m \u001b[43mop\u001b[49m\u001b[38;5;241;43m.\u001b[39;49m\u001b[43mapply\u001b[49m\u001b[43m(\u001b[49m\u001b[43m)\u001b[49m\u001b[38;5;241m.\u001b[39m__finalize__(\u001b[38;5;28mself\u001b[39m, method\u001b[38;5;241m=\u001b[39m\u001b[38;5;124m\"\u001b[39m\u001b[38;5;124mapply\u001b[39m\u001b[38;5;124m\"\u001b[39m)\n",
      "File \u001b[0;32m~/Documents/GitHub/OsmiaPopModel/osmiaPopModel_python/venv/lib/python3.12/site-packages/pandas/core/apply.py:916\u001b[0m, in \u001b[0;36mFrameApply.apply\u001b[0;34m(self)\u001b[0m\n\u001b[1;32m    913\u001b[0m \u001b[38;5;28;01melif\u001b[39;00m \u001b[38;5;28mself\u001b[39m\u001b[38;5;241m.\u001b[39mraw:\n\u001b[1;32m    914\u001b[0m     \u001b[38;5;28;01mreturn\u001b[39;00m \u001b[38;5;28mself\u001b[39m\u001b[38;5;241m.\u001b[39mapply_raw(engine\u001b[38;5;241m=\u001b[39m\u001b[38;5;28mself\u001b[39m\u001b[38;5;241m.\u001b[39mengine, engine_kwargs\u001b[38;5;241m=\u001b[39m\u001b[38;5;28mself\u001b[39m\u001b[38;5;241m.\u001b[39mengine_kwargs)\n\u001b[0;32m--> 916\u001b[0m \u001b[38;5;28;01mreturn\u001b[39;00m \u001b[38;5;28;43mself\u001b[39;49m\u001b[38;5;241;43m.\u001b[39;49m\u001b[43mapply_standard\u001b[49m\u001b[43m(\u001b[49m\u001b[43m)\u001b[49m\n",
      "File \u001b[0;32m~/Documents/GitHub/OsmiaPopModel/osmiaPopModel_python/venv/lib/python3.12/site-packages/pandas/core/apply.py:1063\u001b[0m, in \u001b[0;36mFrameApply.apply_standard\u001b[0;34m(self)\u001b[0m\n\u001b[1;32m   1061\u001b[0m \u001b[38;5;28;01mdef\u001b[39;00m \u001b[38;5;21mapply_standard\u001b[39m(\u001b[38;5;28mself\u001b[39m):\n\u001b[1;32m   1062\u001b[0m     \u001b[38;5;28;01mif\u001b[39;00m \u001b[38;5;28mself\u001b[39m\u001b[38;5;241m.\u001b[39mengine \u001b[38;5;241m==\u001b[39m \u001b[38;5;124m\"\u001b[39m\u001b[38;5;124mpython\u001b[39m\u001b[38;5;124m\"\u001b[39m:\n\u001b[0;32m-> 1063\u001b[0m         results, res_index \u001b[38;5;241m=\u001b[39m \u001b[38;5;28;43mself\u001b[39;49m\u001b[38;5;241;43m.\u001b[39;49m\u001b[43mapply_series_generator\u001b[49m\u001b[43m(\u001b[49m\u001b[43m)\u001b[49m\n\u001b[1;32m   1064\u001b[0m     \u001b[38;5;28;01melse\u001b[39;00m:\n\u001b[1;32m   1065\u001b[0m         results, res_index \u001b[38;5;241m=\u001b[39m \u001b[38;5;28mself\u001b[39m\u001b[38;5;241m.\u001b[39mapply_series_numba()\n",
      "File \u001b[0;32m~/Documents/GitHub/OsmiaPopModel/osmiaPopModel_python/venv/lib/python3.12/site-packages/pandas/core/apply.py:1081\u001b[0m, in \u001b[0;36mFrameApply.apply_series_generator\u001b[0;34m(self)\u001b[0m\n\u001b[1;32m   1078\u001b[0m \u001b[38;5;28;01mwith\u001b[39;00m option_context(\u001b[38;5;124m\"\u001b[39m\u001b[38;5;124mmode.chained_assignment\u001b[39m\u001b[38;5;124m\"\u001b[39m, \u001b[38;5;28;01mNone\u001b[39;00m):\n\u001b[1;32m   1079\u001b[0m     \u001b[38;5;28;01mfor\u001b[39;00m i, v \u001b[38;5;129;01min\u001b[39;00m \u001b[38;5;28menumerate\u001b[39m(series_gen):\n\u001b[1;32m   1080\u001b[0m         \u001b[38;5;66;03m# ignore SettingWithCopy here in case the user mutates\u001b[39;00m\n\u001b[0;32m-> 1081\u001b[0m         results[i] \u001b[38;5;241m=\u001b[39m \u001b[38;5;28;43mself\u001b[39;49m\u001b[38;5;241;43m.\u001b[39;49m\u001b[43mfunc\u001b[49m\u001b[43m(\u001b[49m\u001b[43mv\u001b[49m\u001b[43m,\u001b[49m\u001b[43m \u001b[49m\u001b[38;5;241;43m*\u001b[39;49m\u001b[38;5;28;43mself\u001b[39;49m\u001b[38;5;241;43m.\u001b[39;49m\u001b[43margs\u001b[49m\u001b[43m,\u001b[49m\u001b[43m \u001b[49m\u001b[38;5;241;43m*\u001b[39;49m\u001b[38;5;241;43m*\u001b[39;49m\u001b[38;5;28;43mself\u001b[39;49m\u001b[38;5;241;43m.\u001b[39;49m\u001b[43mkwargs\u001b[49m\u001b[43m)\u001b[49m\n\u001b[1;32m   1082\u001b[0m         \u001b[38;5;28;01mif\u001b[39;00m \u001b[38;5;28misinstance\u001b[39m(results[i], ABCSeries):\n\u001b[1;32m   1083\u001b[0m             \u001b[38;5;66;03m# If we have a view on v, we need to make a copy because\u001b[39;00m\n\u001b[1;32m   1084\u001b[0m             \u001b[38;5;66;03m#  series_generator will swap out the underlying data\u001b[39;00m\n\u001b[1;32m   1085\u001b[0m             results[i] \u001b[38;5;241m=\u001b[39m results[i]\u001b[38;5;241m.\u001b[39mcopy(deep\u001b[38;5;241m=\u001b[39m\u001b[38;5;28;01mFalse\u001b[39;00m)\n",
      "Cell \u001b[0;32mIn[23], line 3\u001b[0m, in \u001b[0;36m<lambda>\u001b[0;34m(x)\u001b[0m\n\u001b[1;32m      1\u001b[0m \u001b[38;5;28;01mfor\u001b[39;00m year \u001b[38;5;129;01min\u001b[39;00m years:\n\u001b[1;32m      2\u001b[0m     \u001b[38;5;66;03m#grids[f\"emergence_{year}\"] = grids.apply(lambda x: getEmergence(x[\"col\"], x[\"row\"], year), axis=1)\u001b[39;00m\n\u001b[0;32m----> 3\u001b[0m     grids[\u001b[38;5;124mf\u001b[39m\u001b[38;5;124m\"\u001b[39m\u001b[38;5;124mreproduction_\u001b[39m\u001b[38;5;132;01m{\u001b[39;00myear\u001b[38;5;132;01m}\u001b[39;00m\u001b[38;5;124m\"\u001b[39m] \u001b[38;5;241m=\u001b[39m grids\u001b[38;5;241m.\u001b[39mapply(\u001b[38;5;28;01mlambda\u001b[39;00m x: getSpatiallyExplicitReproduction(x[\u001b[38;5;124m\"\u001b[39m\u001b[38;5;124mcol\u001b[39m\u001b[38;5;124m\"\u001b[39m], x[\u001b[38;5;124m\"\u001b[39m\u001b[38;5;124mrow\u001b[39m\u001b[38;5;124m\"\u001b[39m], \u001b[43mx\u001b[49m\u001b[43m[\u001b[49m\u001b[38;5;124;43mf\u001b[39;49m\u001b[38;5;124;43m\"\u001b[39;49m\u001b[38;5;124;43memergence_\u001b[39;49m\u001b[38;5;132;43;01m{\u001b[39;49;00m\u001b[43myear\u001b[49m\u001b[38;5;132;43;01m}\u001b[39;49;00m\u001b[38;5;124;43m\"\u001b[39;49m\u001b[43m]\u001b[49m), axis\u001b[38;5;241m=\u001b[39m\u001b[38;5;241m1\u001b[39m)\n\u001b[1;32m      4\u001b[0m     grids[\u001b[38;5;124mf\u001b[39m\u001b[38;5;124m\"\u001b[39m\u001b[38;5;124megg_larva_mortality_\u001b[39m\u001b[38;5;132;01m{\u001b[39;00myear\u001b[38;5;132;01m}\u001b[39;00m\u001b[38;5;124m\"\u001b[39m] \u001b[38;5;241m=\u001b[39m grids\u001b[38;5;241m.\u001b[39mapply(\u001b[38;5;28;01mlambda\u001b[39;00m x: getEggLarvaMortality(x[\u001b[38;5;124m\"\u001b[39m\u001b[38;5;124mcol\u001b[39m\u001b[38;5;124m\"\u001b[39m], x[\u001b[38;5;124m\"\u001b[39m\u001b[38;5;124mrow\u001b[39m\u001b[38;5;124m\"\u001b[39m], x[\u001b[38;5;124mf\u001b[39m\u001b[38;5;124m\"\u001b[39m\u001b[38;5;124memergence_\u001b[39m\u001b[38;5;132;01m{\u001b[39;00myear\u001b[38;5;132;01m}\u001b[39;00m\u001b[38;5;124m\"\u001b[39m]), axis\u001b[38;5;241m=\u001b[39m\u001b[38;5;241m1\u001b[39m)\n\u001b[1;32m      5\u001b[0m     grids[\u001b[38;5;124mf\u001b[39m\u001b[38;5;124m\"\u001b[39m\u001b[38;5;124mpre_wintering_mortality_\u001b[39m\u001b[38;5;132;01m{\u001b[39;00myear\u001b[38;5;132;01m}\u001b[39;00m\u001b[38;5;124m\"\u001b[39m] \u001b[38;5;241m=\u001b[39m grids\u001b[38;5;241m.\u001b[39mapply(\u001b[38;5;28;01mlambda\u001b[39;00m x: getPreWinteringMortality(x[\u001b[38;5;124m\"\u001b[39m\u001b[38;5;124mcol\u001b[39m\u001b[38;5;124m\"\u001b[39m], x[\u001b[38;5;124m\"\u001b[39m\u001b[38;5;124mrow\u001b[39m\u001b[38;5;124m\"\u001b[39m], year), axis\u001b[38;5;241m=\u001b[39m\u001b[38;5;241m1\u001b[39m)\n",
      "File \u001b[0;32m~/Documents/GitHub/OsmiaPopModel/osmiaPopModel_python/venv/lib/python3.12/site-packages/pandas/core/series.py:1112\u001b[0m, in \u001b[0;36mSeries.__getitem__\u001b[0;34m(self, key)\u001b[0m\n\u001b[1;32m   1109\u001b[0m     \u001b[38;5;28;01mreturn\u001b[39;00m \u001b[38;5;28mself\u001b[39m\u001b[38;5;241m.\u001b[39m_values[key]\n\u001b[1;32m   1111\u001b[0m \u001b[38;5;28;01melif\u001b[39;00m key_is_scalar:\n\u001b[0;32m-> 1112\u001b[0m     \u001b[38;5;28;01mreturn\u001b[39;00m \u001b[38;5;28;43mself\u001b[39;49m\u001b[38;5;241;43m.\u001b[39;49m\u001b[43m_get_value\u001b[49m\u001b[43m(\u001b[49m\u001b[43mkey\u001b[49m\u001b[43m)\u001b[49m\n\u001b[1;32m   1114\u001b[0m \u001b[38;5;66;03m# Convert generator to list before going through hashable part\u001b[39;00m\n\u001b[1;32m   1115\u001b[0m \u001b[38;5;66;03m# (We will iterate through the generator there to check for slices)\u001b[39;00m\n\u001b[1;32m   1116\u001b[0m \u001b[38;5;28;01mif\u001b[39;00m is_iterator(key):\n",
      "File \u001b[0;32m~/Documents/GitHub/OsmiaPopModel/osmiaPopModel_python/venv/lib/python3.12/site-packages/pandas/core/series.py:1228\u001b[0m, in \u001b[0;36mSeries._get_value\u001b[0;34m(self, label, takeable)\u001b[0m\n\u001b[1;32m   1225\u001b[0m     \u001b[38;5;28;01mreturn\u001b[39;00m \u001b[38;5;28mself\u001b[39m\u001b[38;5;241m.\u001b[39m_values[label]\n\u001b[1;32m   1227\u001b[0m \u001b[38;5;66;03m# Similar to Index.get_value, but we do not fall back to positional\u001b[39;00m\n\u001b[0;32m-> 1228\u001b[0m loc \u001b[38;5;241m=\u001b[39m \u001b[38;5;28;43mself\u001b[39;49m\u001b[38;5;241;43m.\u001b[39;49m\u001b[43mindex\u001b[49m\u001b[38;5;241;43m.\u001b[39;49m\u001b[43mget_loc\u001b[49m\u001b[43m(\u001b[49m\u001b[43mlabel\u001b[49m\u001b[43m)\u001b[49m\n\u001b[1;32m   1230\u001b[0m \u001b[38;5;28;01mif\u001b[39;00m is_integer(loc):\n\u001b[1;32m   1231\u001b[0m     \u001b[38;5;28;01mreturn\u001b[39;00m \u001b[38;5;28mself\u001b[39m\u001b[38;5;241m.\u001b[39m_values[loc]\n",
      "File \u001b[0;32m~/Documents/GitHub/OsmiaPopModel/osmiaPopModel_python/venv/lib/python3.12/site-packages/pandas/core/indexes/base.py:3812\u001b[0m, in \u001b[0;36mIndex.get_loc\u001b[0;34m(self, key)\u001b[0m\n\u001b[1;32m   3807\u001b[0m     \u001b[38;5;28;01mif\u001b[39;00m \u001b[38;5;28misinstance\u001b[39m(casted_key, \u001b[38;5;28mslice\u001b[39m) \u001b[38;5;129;01mor\u001b[39;00m (\n\u001b[1;32m   3808\u001b[0m         \u001b[38;5;28misinstance\u001b[39m(casted_key, abc\u001b[38;5;241m.\u001b[39mIterable)\n\u001b[1;32m   3809\u001b[0m         \u001b[38;5;129;01mand\u001b[39;00m \u001b[38;5;28many\u001b[39m(\u001b[38;5;28misinstance\u001b[39m(x, \u001b[38;5;28mslice\u001b[39m) \u001b[38;5;28;01mfor\u001b[39;00m x \u001b[38;5;129;01min\u001b[39;00m casted_key)\n\u001b[1;32m   3810\u001b[0m     ):\n\u001b[1;32m   3811\u001b[0m         \u001b[38;5;28;01mraise\u001b[39;00m InvalidIndexError(key)\n\u001b[0;32m-> 3812\u001b[0m     \u001b[38;5;28;01mraise\u001b[39;00m \u001b[38;5;167;01mKeyError\u001b[39;00m(key) \u001b[38;5;28;01mfrom\u001b[39;00m \u001b[38;5;21;01merr\u001b[39;00m\n\u001b[1;32m   3813\u001b[0m \u001b[38;5;28;01mexcept\u001b[39;00m \u001b[38;5;167;01mTypeError\u001b[39;00m:\n\u001b[1;32m   3814\u001b[0m     \u001b[38;5;66;03m# If we have a listlike key, _check_indexing_error will raise\u001b[39;00m\n\u001b[1;32m   3815\u001b[0m     \u001b[38;5;66;03m#  InvalidIndexError. Otherwise we fall through and re-raise\u001b[39;00m\n\u001b[1;32m   3816\u001b[0m     \u001b[38;5;66;03m#  the TypeError.\u001b[39;00m\n\u001b[1;32m   3817\u001b[0m     \u001b[38;5;28mself\u001b[39m\u001b[38;5;241m.\u001b[39m_check_indexing_error(key)\n",
      "\u001b[0;31mKeyError\u001b[0m: 'emergence_2021'"
     ]
    }
   ],
   "source": [
    "\n",
    "for year in years:\n",
    "    #grids[f\"emergence_{year}\"] = grids.apply(lambda x: getEmergence(x[\"col\"], x[\"row\"], year), axis=1)\n",
    "    grids[f\"reproduction_{year}\"] = grids.apply(lambda x: getSpatiallyExplicitReproduction(x[\"col\"], x[\"row\"], x[f\"emergence_{year}\"]), axis=1)\n",
    "    grids[f\"egg_larva_mortality_{year}\"] = grids.apply(lambda x: getEggLarvaMortality(x[\"col\"], x[\"row\"], x[f\"emergence_{year}\"]), axis=1)\n",
    "    grids[f\"pre_wintering_mortality_{year}\"] = grids.apply(lambda x: getPreWinteringMortality(x[\"col\"], x[\"row\"], year), axis=1)\n",
    "    grids[f\"wintering_temperature_{year}\"] = grids.apply(lambda x: getWinteringTemperature(x[\"col\"], x[\"row\"], year), axis=1)"
   ]
  },
  {
   "cell_type": "code",
   "execution_count": 45,
   "metadata": {},
   "outputs": [],
   "source": [
    "#grids.to_csv('/Users/edwardamoah/Documents/GitHub/OsmiaPopModel/osmiaPopModel_python/output/emergence_reproduction_13_9C_5mm_adam_November_1991_2023.csv', index=False)\n",
    "grids.to_csv('/Users/edwardamoah/Documents/GitHub/OsmiaPopModel/osmiaPopModel_python/output/emergence_reproduction_13_9C_5mm_adam_November_2020_2022.csv', index=False)"
   ]
  },
  {
   "cell_type": "code",
   "execution_count": 12,
   "metadata": {},
   "outputs": [],
   "source": [
    "######### spatially explicit simulation #########"
   ]
  },
  {
   "cell_type": "code",
   "execution_count": 13,
   "metadata": {},
   "outputs": [
    {
     "data": {
      "text/plain": [
       "'\\ngrids_sp = forage[[\"col\", \"row\", \"grid_id\"]]\\n\\nfor year in years:\\n    grids_sp[f\"emergence_{year}\"] = grids_sp.apply(lambda x: getEmergence(x[\"col\"], x[\"row\"], year), axis=1)\\n    grids_sp[f\"reproduction_{year}\"] = grids_sp.apply(lambda x: getSpatiallyExplicitReproduction(x[\"col\"], x[\"row\"], x[f\"emergence_{year}\"]), axis=1)\\n'"
      ]
     },
     "execution_count": 13,
     "metadata": {},
     "output_type": "execute_result"
    }
   ],
   "source": [
    "### spatially explicit model\n",
    "\n",
    "'''\n",
    "grids_sp = forage[[\"col\", \"row\", \"grid_id\"]]\n",
    "\n",
    "for year in years:\n",
    "    grids_sp[f\"emergence_{year}\"] = grids_sp.apply(lambda x: getEmergence(x[\"col\"], x[\"row\"], year), axis=1)\n",
    "    grids_sp[f\"reproduction_{year}\"] = grids_sp.apply(lambda x: getSpatiallyExplicitReproduction(x[\"col\"], x[\"row\"], x[f\"emergence_{year}\"]), axis=1)\n",
    "'''"
   ]
  },
  {
   "cell_type": "code",
   "execution_count": 14,
   "metadata": {},
   "outputs": [],
   "source": [
    "#grids_sp.to_csv('/Users/edwardamoah/Documents/GitHub/OsmiaPopModel/osmiaPopModel_python/output/spatially_explicit_reproduction_with_max_eggs_with_foraging_quality_5mm_precip_threshold_with_temp_and_forage_scores.csv', index=False)"
   ]
  },
  {
   "cell_type": "code",
   "execution_count": 15,
   "metadata": {},
   "outputs": [],
   "source": [
    "############ Study Sites ################"
   ]
  },
  {
   "cell_type": "code",
   "execution_count": 16,
   "metadata": {},
   "outputs": [
    {
     "data": {
      "text/plain": [
       "'\\nsites = [\\'GreenHouse\\', \"Natalie\", \\'Mendel\\', \\'Lemont\\']\\nlat = [40.802, 40.799, 40.884, 40.808]\\nlon = [-77.862, -77.905, -77.834, -77.82]\\n\\ndf_sites = pd.DataFrame({\\n    \"site\": sites,\\n    \"lat\": lat,\\n    \"lon\": lon\\n})\\n\\n\\ndf_st = pd.DataFrame({\\n    \"col\": [1131, 1131, 1131, 1131, 1131, 1131, 1131, 1131, 1131, 1131, 1131, 1131, 1131, 1131, 1131, 1131],\\n    \"row\": [219, 219, 219, 219, 219, 219, 219, 219, 219, 219, 219, 219, 219, 219, 219, 219],\\n    \"year\": [2008, 2009, 2010, 2011, 2012, 2013, 2014, 2015, 2016, 2017, 2018, 2019, 2020, 2021, 2022, 2023]\\n})\\n\\ndf_st[\"emergence\"] = df_st.apply(lambda x: getEmergence(x[\"col\"], x[\"row\"], x[\"year\"]), axis=1)\\n\\n\\n#df_st[\"emergence_date\"] = pd.to_datetime(df_st[\"emergence_date\"])\\n#for year in years:\\ndf_st[\"reproduction\"] = df_st.apply(lambda x: getSpatiallyExplicitReproduction(x[\"col\"], x[\"row\"], x[f\"emergence\"]), axis=1)\\n\\n\\ndf_st[\"non_foraging_days\"] = [x[\\'non_foraging_days\\'] for x in df_st[\"reproduction\"].tolist()]\\ndf_st[\"eggs\"] = [x[\\'eggs\\'] for x in df_st[\"reproduction\"].tolist()]\\ndf_st[\"precipitation_effect\"] = [x[\\'precipitation_effect\\'] for x in df_st[\"reproduction\"].tolist()]\\ndf_st[\"temperature_effect\"] = [x[\\'temperature_effect\\'] for x in df_st[\"reproduction\"].tolist()]\\n\\n\\ndef getJulianDay(emergence):\\n    emergence = datetime.strptime(emergence, \\'%Y-%m-%d\\').date()\\n    starting_date = datetime.strptime(f\\'{emergence.year}-01-01\\', \\'%Y-%m-%d\\').date()\\n    return (emergence - starting_date).days + 1\\n\\n\\ndf_st[\"Julian_day\"] = df_st[\"emergence\"].apply(lambda x: getJulianDay(str(x)))\\n'"
      ]
     },
     "execution_count": 16,
     "metadata": {},
     "output_type": "execute_result"
    }
   ],
   "source": [
    "'''\n",
    "sites = ['GreenHouse', \"Natalie\", 'Mendel', 'Lemont']\n",
    "lat = [40.802, 40.799, 40.884, 40.808]\n",
    "lon = [-77.862, -77.905, -77.834, -77.82]\n",
    "\n",
    "df_sites = pd.DataFrame({\n",
    "    \"site\": sites,\n",
    "    \"lat\": lat,\n",
    "    \"lon\": lon\n",
    "})\n",
    "\n",
    "\n",
    "df_st = pd.DataFrame({\n",
    "    \"col\": [1131, 1131, 1131, 1131, 1131, 1131, 1131, 1131, 1131, 1131, 1131, 1131, 1131, 1131, 1131, 1131],\n",
    "    \"row\": [219, 219, 219, 219, 219, 219, 219, 219, 219, 219, 219, 219, 219, 219, 219, 219],\n",
    "    \"year\": [2008, 2009, 2010, 2011, 2012, 2013, 2014, 2015, 2016, 2017, 2018, 2019, 2020, 2021, 2022, 2023]\n",
    "})\n",
    "\n",
    "df_st[\"emergence\"] = df_st.apply(lambda x: getEmergence(x[\"col\"], x[\"row\"], x[\"year\"]), axis=1)\n",
    "\n",
    "\n",
    "#df_st[\"emergence_date\"] = pd.to_datetime(df_st[\"emergence_date\"])\n",
    "#for year in years:\n",
    "df_st[\"reproduction\"] = df_st.apply(lambda x: getSpatiallyExplicitReproduction(x[\"col\"], x[\"row\"], x[f\"emergence\"]), axis=1)\n",
    "\n",
    "\n",
    "df_st[\"non_foraging_days\"] = [x['non_foraging_days'] for x in df_st[\"reproduction\"].tolist()]\n",
    "df_st[\"eggs\"] = [x['eggs'] for x in df_st[\"reproduction\"].tolist()]\n",
    "df_st[\"precipitation_effect\"] = [x['precipitation_effect'] for x in df_st[\"reproduction\"].tolist()]\n",
    "df_st[\"temperature_effect\"] = [x['temperature_effect'] for x in df_st[\"reproduction\"].tolist()]\n",
    "\n",
    "\n",
    "def getJulianDay(emergence):\n",
    "    emergence = datetime.strptime(emergence, '%Y-%m-%d').date()\n",
    "    starting_date = datetime.strptime(f'{emergence.year}-01-01', '%Y-%m-%d').date()\n",
    "    return (emergence - starting_date).days + 1\n",
    "\n",
    "\n",
    "df_st[\"Julian_day\"] = df_st[\"emergence\"].apply(lambda x: getJulianDay(str(x)))\n",
    "'''"
   ]
  },
  {
   "cell_type": "code",
   "execution_count": 17,
   "metadata": {},
   "outputs": [
    {
     "data": {
      "text/plain": [
       "\"\\nimport pandas as pd\\nimport matplotlib.pyplot as plt\\nimport numpy as np\\n\\n# Sample DataFrame (replace this with your actual DataFrame)\\ndata = {\\n    'x': [1, 2, 3, 4, 5],\\n    'y': [2, 3, 5, 4, 6]\\n}\\ndf = df_st #pd.DataFrame(data)\\n\\ncolumns = ['year', 'non_foraging_days', 'eggs', 'precipitation_effect', 'temperature_effect']\\n# Scatter plot\\ni=4\\nplt.scatter(df['year'], df[columns[i]], label='Number of Cold Days')\\n\\n# Linear regression\\ncoefficients = np.polyfit(df['year'], df[columns[i]], 1)\\nslope = coefficients[0]\\nintercept = coefficients[1]\\ntrendline = f'Regression line: y={slope:.2f}x{intercept:.2f}'\\nplt.plot(df['year'], intercept + slope * df['year'], color='red', label=trendline)\\n\\n# Add labels and legend\\nplt.xlabel('Year')\\nplt.ylabel('Days')\\nplt.title('Number of Cold (<13.9 C) Days vs Year')\\nplt.legend()\\n\\n# Show plot\\nplt.show()\\n\""
      ]
     },
     "execution_count": 17,
     "metadata": {},
     "output_type": "execute_result"
    }
   ],
   "source": [
    "'''\n",
    "import pandas as pd\n",
    "import matplotlib.pyplot as plt\n",
    "import numpy as np\n",
    "\n",
    "# Sample DataFrame (replace this with your actual DataFrame)\n",
    "data = {\n",
    "    'x': [1, 2, 3, 4, 5],\n",
    "    'y': [2, 3, 5, 4, 6]\n",
    "}\n",
    "df = df_st #pd.DataFrame(data)\n",
    "\n",
    "columns = ['year', 'non_foraging_days', 'eggs', 'precipitation_effect', 'temperature_effect']\n",
    "# Scatter plot\n",
    "i=4\n",
    "plt.scatter(df['year'], df[columns[i]], label='Number of Cold Days')\n",
    "\n",
    "# Linear regression\n",
    "coefficients = np.polyfit(df['year'], df[columns[i]], 1)\n",
    "slope = coefficients[0]\n",
    "intercept = coefficients[1]\n",
    "trendline = f'Regression line: y={slope:.2f}x{intercept:.2f}'\n",
    "plt.plot(df['year'], intercept + slope * df['year'], color='red', label=trendline)\n",
    "\n",
    "# Add labels and legend\n",
    "plt.xlabel('Year')\n",
    "plt.ylabel('Days')\n",
    "plt.title('Number of Cold (<13.9 C) Days vs Year')\n",
    "plt.legend()\n",
    "\n",
    "# Show plot\n",
    "plt.show()\n",
    "'''"
   ]
  },
  {
   "cell_type": "code",
   "execution_count": 18,
   "metadata": {},
   "outputs": [
    {
     "data": {
      "text/plain": [
       "\"\\nimport pandas as pd\\nimport numpy as np\\nimport matplotlib.pyplot as plt\\n\\ndf_st.plot(x='Julian_day', y='temperature_effect', kind='scatter', label='Emergence date')\\n\\n# Linear regression\\ncoefficients = np.polyfit(df_st['Julian_day'], df_st['temperature_effect'], 1)\\nslope = coefficients[0]\\nintercept = coefficients[1]\\ntrendline = f'Regression line: y={slope:.2f}x+{intercept:.2f}'\\nplt.plot(df_st['Julian_day'], intercept + slope * df_st['Julian_day'], color='red', label=trendline)\\n\\n# Add labels and legend\\nplt.xlabel('Julian Date of Emergence')\\nplt.ylabel('Number of Cold Days')\\nplt.title('Number of Cold (<13.9 C) Days vs Julian Date of Emergence')\\nplt.legend()\\n\\n# Show plot\\nplt.show()\\n\""
      ]
     },
     "execution_count": 18,
     "metadata": {},
     "output_type": "execute_result"
    }
   ],
   "source": [
    "'''\n",
    "import pandas as pd\n",
    "import numpy as np\n",
    "import matplotlib.pyplot as plt\n",
    "\n",
    "df_st.plot(x='Julian_day', y='temperature_effect', kind='scatter', label='Emergence date')\n",
    "\n",
    "# Linear regression\n",
    "coefficients = np.polyfit(df_st['Julian_day'], df_st['temperature_effect'], 1)\n",
    "slope = coefficients[0]\n",
    "intercept = coefficients[1]\n",
    "trendline = f'Regression line: y={slope:.2f}x+{intercept:.2f}'\n",
    "plt.plot(df_st['Julian_day'], intercept + slope * df_st['Julian_day'], color='red', label=trendline)\n",
    "\n",
    "# Add labels and legend\n",
    "plt.xlabel('Julian Date of Emergence')\n",
    "plt.ylabel('Number of Cold Days')\n",
    "plt.title('Number of Cold (<13.9 C) Days vs Julian Date of Emergence')\n",
    "plt.legend()\n",
    "\n",
    "# Show plot\n",
    "plt.show()\n",
    "'''\n"
   ]
  }
 ],
 "metadata": {
  "kernelspec": {
   "display_name": "venv",
   "language": "python",
   "name": "python3"
  },
  "language_info": {
   "codemirror_mode": {
    "name": "ipython",
    "version": 3
   },
   "file_extension": ".py",
   "mimetype": "text/x-python",
   "name": "python",
   "nbconvert_exporter": "python",
   "pygments_lexer": "ipython3",
   "version": "3.12.5"
  }
 },
 "nbformat": 4,
 "nbformat_minor": 2
}
