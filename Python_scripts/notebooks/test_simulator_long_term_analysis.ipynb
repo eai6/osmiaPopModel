import scipy.stats as stats

# Perform t-test
t_stat, p_value = stats.ttest_ind(df_pa1['temperature'], df_pa1['precipitation'], alternative='greater')

# Check if temperature mean is higher than precipitation mean
if p_value < 0.05 and t_stat > 0:
    print("Temperature mean is higher than precipitation mean")
else:
    print("Temperature mean is not higher than precipitation mean")